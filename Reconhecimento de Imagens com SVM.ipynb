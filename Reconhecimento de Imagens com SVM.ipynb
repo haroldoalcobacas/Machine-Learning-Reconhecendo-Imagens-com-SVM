{
 "cells": [
  {
   "cell_type": "markdown",
   "id": "e70ba5e2",
   "metadata": {},
   "source": [
    "### Reconhecimento de Imagens ( Dígitos )"
   ]
  },
  {
   "cell_type": "code",
   "execution_count": 3,
   "id": "87f9d86a",
   "metadata": {},
   "outputs": [],
   "source": [
    "from sklearn import datasets\n",
    "digits = datasets.load_digits()"
   ]
  },
  {
   "cell_type": "code",
   "execution_count": 4,
   "id": "5072065d",
   "metadata": {},
   "outputs": [
    {
     "name": "stdout",
     "output_type": "stream",
     "text": [
      "(1797, 64)\n",
      "(1797,)\n"
     ]
    }
   ],
   "source": [
    "print(digits.data.shape)\n",
    "print(digits.target.shape)"
   ]
  },
  {
   "cell_type": "code",
   "execution_count": 6,
   "id": "3f92d5d0",
   "metadata": {},
   "outputs": [
    {
     "name": "stdout",
     "output_type": "stream",
     "text": [
      "[[ 0.  0.  5. 13.  9.  1.  0.  0.]\n",
      " [ 0.  0. 13. 15. 10. 15.  5.  0.]\n",
      " [ 0.  3. 15.  2.  0. 11.  8.  0.]\n",
      " [ 0.  4. 12.  0.  0.  8.  8.  0.]\n",
      " [ 0.  5.  8.  0.  0.  9.  8.  0.]\n",
      " [ 0.  4. 11.  0.  1. 12.  7.  0.]\n",
      " [ 0.  2. 14.  5. 10. 12.  0.  0.]\n",
      " [ 0.  0.  6. 13. 10.  0.  0.  0.]]\n"
     ]
    }
   ],
   "source": [
    "print(digits.images[0])"
   ]
  },
  {
   "cell_type": "code",
   "execution_count": 21,
   "id": "df8c7405",
   "metadata": {},
   "outputs": [
    {
     "data": {
      "text/plain": [
       "<matplotlib.image.AxesImage at 0x24e48288d60>"
      ]
     },
     "execution_count": 21,
     "metadata": {},
     "output_type": "execute_result"
    },
    {
     "data": {
      "image/png": "[encoded data removed]",
      "text/plain": [
       "<Figure size 100x100 with 1 Axes>"
      ]
     },
     "metadata": {},
     "output_type": "display_data"
    }
   ],
   "source": [
    "import matplotlib.pyplot as plt\n",
    "%matplotlib inline\n",
    "\n",
    "plt.figure(figsize=(1,1))\n",
    "plt.imshow(digits.images[128], cmap = plt.cm.gray_r)"
   ]
  },
  {
   "cell_type": "markdown",
   "id": "20876c93",
   "metadata": {},
   "source": [
    "### Aplicação do SVM"
   ]
  },
  {
   "cell_type": "code",
   "execution_count": 16,
   "id": "2361b28e",
   "metadata": {},
   "outputs": [],
   "source": [
    "from sklearn.model_selection import train_test_split\n",
    "x = digits.data\n",
    "y = digits.target\n",
    "x_train, x_test, y_train, y_test = train_test_split(x,y,test_size=0.30,random_state=5)"
   ]
  },
  {
   "cell_type": "code",
   "execution_count": 19,
   "id": "8564dfd7",
   "metadata": {},
   "outputs": [
    {
     "name": "stdout",
     "output_type": "stream",
     "text": [
      "0.9851851851851852\n"
     ]
    }
   ],
   "source": [
    "from sklearn import svm\n",
    "from sklearn import metrics\n",
    "\n",
    "classifier = svm.SVC()\n",
    "classifier.fit(x_train, y_train)\n",
    "previsoes = classifier.predict(x_test)\n",
    "acertos = metrics.accuracy_score(y_test, previsoes)\n",
    "print(acertos)"
   ]
  },
  {
   "cell_type": "markdown",
   "id": "f7cacaf7",
   "metadata": {},
   "source": [
    "#### Reconhecimento de um Dígito"
   ]
  },
  {
   "cell_type": "code",
   "execution_count": 34,
   "id": "321fa9bf",
   "metadata": {},
   "outputs": [
    {
     "name": "stdout",
     "output_type": "stream",
     "text": [
      "[1]\n"
     ]
    }
   ],
   "source": [
    "import numpy as np\n",
    "import matplotlib.image as  mpimg\n",
    "\n",
    "img = mpimg.imread('number.png')\n",
    "\n",
    "def rgb2gray(rgb):\n",
    "    img_array = np.dot(rgb[...,:3],[0.299, 0.587, 0.114])\n",
    "    img_array = (16- (img_array * 16)).astype(int)\n",
    "    img_array = img_array.flatten()\n",
    "    return img_array\n",
    "    \n",
    "previsao = classifier.predict([rgb2gray(img)])\n",
    "print(previsao)"
   ]
  },
  {
   "cell_type": "markdown",
   "id": "57716f4e",
   "metadata": {},
   "source": [
    "#### Teste com Regressao Logística"
   ]
  },
  {
   "cell_type": "code",
   "execution_count": 38,
   "id": "5d216b2a",
   "metadata": {},
   "outputs": [
    {
     "name": "stdout",
     "output_type": "stream",
     "text": [
      "0.9629629629629629\n"
     ]
    },
    {
     "name": "stderr",
     "output_type": "stream",
     "text": [
      "C:\\Users\\harol\\anaconda3\\lib\\site-packages\\sklearn\\linear_model\\_logistic.py:814: ConvergenceWarning: lbfgs failed to converge (status=1):\n",
      "STOP: TOTAL NO. of ITERATIONS REACHED LIMIT.\n",
      "\n",
      "Increase the number of iterations (max_iter) or scale the data as shown in:\n",
      "    https://scikit-learn.org/stable/modules/preprocessing.html\n",
      "Please also refer to the documentation for alternative solver options:\n",
      "    https://scikit-learn.org/stable/modules/linear_model.html#logistic-regression\n",
      "  n_iter_i = _check_optimize_result(\n"
     ]
    }
   ],
   "source": [
    "from sklearn.linear_model import LogisticRegression\n",
    "logreg = LogisticRegression()\n",
    "logreg.fit(x_train, y_train)\n",
    "previsao_logreg = logreg.predict([rgb2gray(img)])\n",
    "acertos_logreg = metrics.accuracy_score(y_test, previsoes_logreg)\n",
    "print(acertos_logreg)"
   ]
  },
  {
   "cell_type": "code",
   "execution_count": 39,
   "id": "d6db85f5",
   "metadata": {},
   "outputs": [
    {
     "name": "stdout",
     "output_type": "stream",
     "text": [
      "[1]\n"
     ]
    }
   ],
   "source": [
    "print(previsao_logreg)"
   ]
  },
  {
   "cell_type": "code",
   "execution_count": null,
   "id": "b285cc42",
   "metadata": {},
   "outputs": [],
   "source": []
  }
 ],
 "metadata": {
  "kernelspec": {
   "display_name": "Python 3 (ipykernel)",
   "language": "python",
   "name": "python3"
  },
  "language_info": {
   "codemirror_mode": {
    "name": "ipython",
    "version": 3
   },
   "file_extension": ".py",
   "mimetype": "text/x-python",
   "name": "python",
   "nbconvert_exporter": "python",
   "pygments_lexer": "ipython3",
   "version": "3.9.13"
  }
 },
 "nbformat": 4,
 "nbformat_minor": 5
}
